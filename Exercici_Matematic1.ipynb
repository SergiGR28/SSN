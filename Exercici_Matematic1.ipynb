{
  "nbformat": 4,
  "nbformat_minor": 0,
  "metadata": {
    "colab": {
      "provenance": [],
      "authorship_tag": "ABX9TyPf0YHzk6K0pb4+Ue6yCSTg",
      "include_colab_link": true
    },
    "kernelspec": {
      "name": "python3",
      "display_name": "Python 3"
    },
    "language_info": {
      "name": "python"
    }
  },
  "cells": [
    {
      "cell_type": "markdown",
      "metadata": {
        "id": "view-in-github",
        "colab_type": "text"
      },
      "source": [
        "<a href=\"https://colab.research.google.com/github/SergiGR28/SSN/blob/main/Exercici_Matematic1.ipynb\" target=\"_parent\"><img src=\"https://colab.research.google.com/assets/colab-badge.svg\" alt=\"Open In Colab\"/></a>"
      ]
    },
    {
      "cell_type": "markdown",
      "source": [
        "![image.png](data:image/png;base64,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)\n",
        "\n",
        "Solucio a aquest exercici.\n",
        "\n",
        "Sergi Grau Romero"
      ],
      "metadata": {
        "id": "OsKm5HmTNuw8"
      }
    },
    {
      "cell_type": "markdown",
      "source": [
        "Importem les llibreries necessaries"
      ],
      "metadata": {
        "id": "XTPE88W8N5Kz"
      }
    },
    {
      "cell_type": "code",
      "execution_count": 1,
      "metadata": {
        "id": "3sotb4P7Nsnk"
      },
      "outputs": [],
      "source": [
        "import numpy as np"
      ]
    },
    {
      "cell_type": "markdown",
      "source": [
        "Definim la matriu A"
      ],
      "metadata": {
        "id": "_FkkQRgMOcuJ"
      }
    },
    {
      "cell_type": "code",
      "source": [
        "A = np.array([[1,1,1,1],[1,1,1,1],[1,1,1,1],[1,1,1,1]])\n",
        "print(A)"
      ],
      "metadata": {
        "colab": {
          "base_uri": "https://localhost:8080/"
        },
        "id": "Ng77zaPKOhRs",
        "outputId": "f065f274-aeff-4c37-970b-72833b4f0984"
      },
      "execution_count": 3,
      "outputs": [
        {
          "output_type": "stream",
          "name": "stdout",
          "text": [
            "[[1 1 1 1]\n",
            " [1 1 1 1]\n",
            " [1 1 1 1]\n",
            " [1 1 1 1]]\n"
          ]
        }
      ]
    },
    {
      "cell_type": "markdown",
      "source": [
        "Calculem els valors i vectors propis"
      ],
      "metadata": {
        "id": "L5NPPUYyPE-K"
      }
    },
    {
      "cell_type": "code",
      "source": [
        "eigenvalues, eigenvectors = np.linalg.eig(A)\n",
        "print(\"Valors propis:\")\n",
        "print(eigenvalues)\n",
        "print(\"Vectors propis:\")\n",
        "print(eigenvectors)"
      ],
      "metadata": {
        "colab": {
          "base_uri": "https://localhost:8080/"
        },
        "id": "rBIyZ8HKPITX",
        "outputId": "44ec28f4-992c-429f-db7b-629488af4113"
      },
      "execution_count": 8,
      "outputs": [
        {
          "output_type": "stream",
          "name": "stdout",
          "text": [
            "Valors propis:\n",
            "[0. 4. 0. 0.]\n",
            "Vectors propis:\n",
            "[[-8.66025404e-01  5.00000000e-01 -2.77555756e-17 -2.77555756e-17]\n",
            " [ 2.88675135e-01  5.00000000e-01 -5.77350269e-01 -5.77350269e-01]\n",
            " [ 2.88675135e-01  5.00000000e-01  7.88675135e-01 -2.11324865e-01]\n",
            " [ 2.88675135e-01  5.00000000e-01 -2.11324865e-01  7.88675135e-01]]\n"
          ]
        }
      ]
    },
    {
      "cell_type": "markdown",
      "source": [
        "Ara calculem la matriu canvi de base (P) i la matriu diagonal (D):"
      ],
      "metadata": {
        "id": "3nTFlnkuQFmU"
      }
    },
    {
      "cell_type": "code",
      "source": [
        "D = np.diag(eigenvalues)\n",
        "P = eigenvectors"
      ],
      "metadata": {
        "id": "zx0hS1u7QO7o"
      },
      "execution_count": 11,
      "outputs": []
    },
    {
      "cell_type": "markdown",
      "source": [
        "I ara aplicant la propietat PDP^(-1) podem verificar que A es diagonalitzable."
      ],
      "metadata": {
        "id": "kvo2YA4jQbuE"
      }
    },
    {
      "cell_type": "code",
      "source": [
        "A_reconstruida = P * D * np.linalg.inv(P)\n",
        "print(\"Matriu reconstruida:\")\n",
        "print(A_reconstruida)"
      ],
      "metadata": {
        "colab": {
          "base_uri": "https://localhost:8080/"
        },
        "id": "U2WoawDvQtsl",
        "outputId": "2349393d-d5be-4e9d-fcab-c10324a5491b"
      },
      "execution_count": 12,
      "outputs": [
        {
          "output_type": "stream",
          "name": "stdout",
          "text": [
            "Matriu reconstruida:\n",
            "[[ 0.  0. -0. -0.]\n",
            " [ 0.  1. -0. -0.]\n",
            " [ 0. -0.  0.  0.]\n",
            " [ 0. -0.  0.  0.]]\n"
          ]
        }
      ]
    }
  ]
}